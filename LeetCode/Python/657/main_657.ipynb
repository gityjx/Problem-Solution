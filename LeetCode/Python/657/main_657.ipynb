{
 "cells": [
  {
   "cell_type": "code",
   "execution_count": null,
   "metadata": {
    "collapsed": true
   },
   "outputs": [],
   "source": []
  },
  {
   "cell_type": "code",
   "execution_count": 11,
   "metadata": {
    "collapsed": false
   },
   "outputs": [],
   "source": [
    "class Solution:\n",
    "    def JudgeCircle(self, moves):\n",
    "        moves = moves.upper()\n",
    "        Lcount, Rcount, Ucount, Dcount = 0,0,0,0\n",
    "        for item in moves:\n",
    "            if item == 'L':\n",
    "                Lcount += 1\n",
    "            elif item == 'R':\n",
    "                Rcount += 1\n",
    "            elif item == 'U':\n",
    "                Ucount += 1\n",
    "            elif item == 'D':\n",
    "                Dcount += 1\n",
    "        print(Lcount, Rcount, Ucount, Dcount)\n",
    "#       print(Lcount ==Rcount )\n",
    "#       print(Ucount == Dcount)\n",
    "#       print(Lcount ==Rcount & Ucount == Dcount)\n",
    "#         if (Lcount ==Rcount) and (Ucount == Dcount):\n",
    "        if (Lcount ==Rcount) and (Ucount == Dcount):\n",
    "            return True\n",
    "        return False\n",
    "                        \n",
    "                        \n",
    "                \n",
    "            "
   ]
  },
  {
   "cell_type": "code",
   "execution_count": 13,
   "metadata": {
    "collapsed": false
   },
   "outputs": [
    {
     "name": "stdout",
     "output_type": "stream",
     "text": [
      "0 0 1 1\n",
      "True\n"
     ]
    }
   ],
   "source": [
    "So  = Solution()\n",
    "moves = 'Ud'\n",
    "print(So.JudgeCircle(moves))\n"
   ]
  },
  {
   "cell_type": "code",
   "execution_count": null,
   "metadata": {
    "collapsed": false
   },
   "outputs": [],
   "source": []
  },
  {
   "cell_type": "code",
   "execution_count": null,
   "metadata": {
    "collapsed": false
   },
   "outputs": [],
   "source": []
  },
  {
   "cell_type": "code",
   "execution_count": null,
   "metadata": {
    "collapsed": false
   },
   "outputs": [],
   "source": []
  },
  {
   "cell_type": "code",
   "execution_count": null,
   "metadata": {
    "collapsed": false
   },
   "outputs": [],
   "source": []
  },
  {
   "cell_type": "code",
   "execution_count": null,
   "metadata": {
    "collapsed": true
   },
   "outputs": [],
   "source": []
  }
 ],
 "metadata": {
  "anaconda-cloud": {},
  "kernelspec": {
   "display_name": "Python [conda root]",
   "language": "python",
   "name": "conda-root-py"
  },
  "language_info": {
   "codemirror_mode": {
    "name": "ipython",
    "version": 3
   },
   "file_extension": ".py",
   "mimetype": "text/x-python",
   "name": "python",
   "nbconvert_exporter": "python",
   "pygments_lexer": "ipython3",
   "version": "3.5.2"
  }
 },
 "nbformat": 4,
 "nbformat_minor": 1
}
