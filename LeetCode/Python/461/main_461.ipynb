{
 "cells": [
  {
   "cell_type": "markdown",
   "metadata": {},
   "source": [
    "The Hamming distance between two integers is the number of positions at which the corresponding bits are different.\n",
    "\n",
    "Given two integers x and y, calculate the Hamming distance.\n",
    "\n",
    "Note:\n",
    "0 ≤ x, y < 231.\n",
    "\n",
    "Example:\n",
    "\n",
    "Input: x = 1, y = 4\n",
    "\n",
    "Output: 2\n",
    "\n",
    "Explanation:\n",
    "1   (0 0 0 1)\n",
    "4   (0 1 0 0)\n",
    "\n",
    "       ↑   ↑\n",
    "\n",
    "The above arrows point to positions where the corresponding bits are different."
   ]
  },
  {
   "cell_type": "code",
   "execution_count": 4,
   "metadata": {
    "collapsed": false
   },
   "outputs": [],
   "source": [
    "class Solution:\n",
    "    def hammingDistance(self, x, y):\n",
    "        \"\"\"\n",
    "        :type x: int\n",
    "        :type y: int\n",
    "        :rtype: int\n",
    "        \"\"\"\n",
    "        "
   ]
  },
  {
   "cell_type": "code",
   "execution_count": 6,
   "metadata": {
    "collapsed": true
   },
   "outputs": [],
   "source": [
    "S = Solution()\n",
    "x =1\n",
    "y =4\n",
    "S.hammingDistance(x,y)\n"
   ]
  },
  {
   "cell_type": "code",
   "execution_count": null,
   "metadata": {
    "collapsed": true
   },
   "outputs": [],
   "source": []
  }
 ],
 "metadata": {
  "anaconda-cloud": {},
  "kernelspec": {
   "display_name": "Python [conda root]",
   "language": "python",
   "name": "conda-root-py"
  },
  "language_info": {
   "codemirror_mode": {
    "name": "ipython",
    "version": 3
   },
   "file_extension": ".py",
   "mimetype": "text/x-python",
   "name": "python",
   "nbconvert_exporter": "python",
   "pygments_lexer": "ipython3",
   "version": "3.5.2"
  }
 },
 "nbformat": 4,
 "nbformat_minor": 1
}
