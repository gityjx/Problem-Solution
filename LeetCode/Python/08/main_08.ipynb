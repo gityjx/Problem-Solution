{
 "cells": [
  {
   "cell_type": "markdown",
   "metadata": {},
   "source": [
    "Implement atoi to convert a string to an integer.\n",
    "\n",
    "Hint: Carefully consider all possible input cases. If you want a challenge, please do not see below and ask yourself what are the possible input cases.\n",
    "\n",
    "Notes: It is intended for this problem to be specified vaguely (ie, no given input specs). You are responsible to gather all the input requirements up front.\n",
    "\n",
    "Update (2015-02-10):\n",
    "The signature of the C++ function had been updated. If you still see your function signature accepts a const char * argument, please click the reload button  to reset your code definition.\n",
    "\n",
    "spoilers alert... click to show requirements for atoi."
   ]
  },
  {
   "cell_type": "code",
   "execution_count": 12,
   "metadata": {
    "collapsed": false
   },
   "outputs": [],
   "source": [
    "class Solution(object):  \n",
    "    def myAtoi(self, str):  \n",
    "        \"\"\" \n",
    "        :type str: str \n",
    "        :rtype: int \n",
    "        \"\"\"  \n",
    "        i = 0  \n",
    "        sign = 1  \n",
    "        base = 0  \n",
    "        l = len(str)  \n",
    "        INT_MAX = 2147483647  \n",
    "        INT_MIN = -2147483648  \n",
    "        a_0 = ord('0')  \n",
    "        a_9 = ord('9')  \n",
    "        while i < l and str[i] == ' ':  \n",
    "            i += 1  \n",
    "        if i < l and str[i] == '-':  \n",
    "            sign = -1  \n",
    "            i += 1  \n",
    "        elif i< l and str[i] == '+':  \n",
    "            i += 1  \n",
    "        while i < l and ord(str[i]) >= a_0 and ord(str[i]) <= a_9:  \n",
    "            if base > INT_MAX // 10 or (base == INT_MAX // 10 and ord(str[i]) - a_0 > 7):  \n",
    "                return sign == 1 and INT_MAX or INT_MIN  \n",
    "            base = 10 * base + (ord(str[i]) - a_0)  \n",
    "            i += 1  \n",
    "  \n",
    "        return base * sign\n",
    "        \n"
   ]
  },
  {
   "cell_type": "code",
   "execution_count": 13,
   "metadata": {
    "collapsed": false
   },
   "outputs": [
    {
     "data": {
      "text/plain": [
       "12321"
      ]
     },
     "execution_count": 13,
     "metadata": {},
     "output_type": "execute_result"
    }
   ],
   "source": [
    "S = Solution()\n",
    "S.myAtoi('12321')"
   ]
  },
  {
   "cell_type": "code",
   "execution_count": null,
   "metadata": {
    "collapsed": false
   },
   "outputs": [],
   "source": []
  },
  {
   "cell_type": "code",
   "execution_count": null,
   "metadata": {
    "collapsed": false
   },
   "outputs": [],
   "source": []
  },
  {
   "cell_type": "code",
   "execution_count": null,
   "metadata": {
    "collapsed": false
   },
   "outputs": [],
   "source": []
  },
  {
   "cell_type": "code",
   "execution_count": null,
   "metadata": {
    "collapsed": true
   },
   "outputs": [],
   "source": []
  }
 ],
 "metadata": {
  "anaconda-cloud": {},
  "kernelspec": {
   "display_name": "Python [conda root]",
   "language": "python",
   "name": "conda-root-py"
  },
  "language_info": {
   "codemirror_mode": {
    "name": "ipython",
    "version": 3
   },
   "file_extension": ".py",
   "mimetype": "text/x-python",
   "name": "python",
   "nbconvert_exporter": "python",
   "pygments_lexer": "ipython3",
   "version": "3.5.2"
  }
 },
 "nbformat": 4,
 "nbformat_minor": 1
}
